{
 "cells": [
  {
   "cell_type": "code",
   "execution_count": 1,
   "id": "a3892cd3",
   "metadata": {},
   "outputs": [],
   "source": [
    "from scipy.io import loadmat\n",
    "from PIL import Image\n",
    "import numpy as np\n",
    "import os\n",
    "from glob import glob\n",
    "import cv2\n",
    "import argparse"
   ]
  },
  {
   "cell_type": "code",
   "execution_count": 2,
   "id": "97a8b5ea",
   "metadata": {},
   "outputs": [],
   "source": [
    "def cal_new_size(im_h, im_w, min_size, max_size):\n",
    "    if im_h < im_w:\n",
    "        if im_h < min_size:\n",
    "            ratio = 1.0 * min_size / im_h\n",
    "            im_h = min_size\n",
    "            im_w = round(im_w*ratio)\n",
    "        elif im_h > max_size:\n",
    "            ratio = 1.0 * max_size / im_h\n",
    "            im_h = max_size\n",
    "            im_w = round(im_w*ratio)\n",
    "        else:\n",
    "            ratio = 1.0\n",
    "    else:\n",
    "        if im_w < min_size:\n",
    "            ratio = 1.0 * min_size / im_w\n",
    "            im_w = min_size\n",
    "            im_h = round(im_h*ratio)\n",
    "        elif im_w > max_size:\n",
    "            ratio = 1.0 * max_size / im_w\n",
    "            im_w = max_size\n",
    "            im_h = round(im_h*ratio)\n",
    "        else:\n",
    "            ratio = 1.0\n",
    "    return im_h, im_w, ratio"
   ]
  },
  {
   "cell_type": "code",
   "execution_count": 3,
   "id": "8218db07",
   "metadata": {},
   "outputs": [],
   "source": [
    "def find_dis(point):\n",
    "    square = np.sum(point*point, axis=1)\n",
    "    dis = np.sqrt(np.maximum(square[:, None] - 2*np.matmul(point, point.T) + square[None, :], 0.0))\n",
    "    dis = np.mean(np.partition(dis, 3, axis=1)[:, 1:4], axis=1, keepdims=True)\n",
    "    return dis"
   ]
  },
  {
   "cell_type": "code",
   "execution_count": 4,
   "id": "5c4e4309",
   "metadata": {},
   "outputs": [],
   "source": [
    "def generate_data(im_path):\n",
    "    #SHA、SHB 的数据集加载方式\n",
    "    mark_path = '/home/xing/BackdoorAttacksonCrowdCounting/trigger_files/rain1.jpeg'\n",
    "    mark = Image.open(mark_path)\n",
    "    # print(im_path)\n",
    "    im = Image.open(im_path)\n",
    "    im = im.convert('RGB')\n",
    "    im_np = np.array(im)\n",
    "    #读取图片以及对应的尺寸\n",
    "    im_w, im_h = im.size\n",
    "    #植入相同尺寸\n",
    "    mark_resize = mark.resize(im.size)\n",
    "    # mark_resize_np = np.array(mark_resize)\n",
    "    #poisoned images组成为：\n",
    "    bg_img_np = 0.7 * np.array(im) + 0.3 * np.array(mark_resize)\n",
    "    #读取图片对应的mat文件即，找到对应的GT\n",
    "    mat_path = im_path.replace('.jpg', '.mat').replace('IMG','GT_IMG').replace('images','ground_truth')\n",
    "    print(\"mat_path is {}\".format(mat_path))\n",
    "    #拿出对应的坐标点洗  points就是读取的gt值（feature）\n",
    "    points = loadmat(mat_path)[\"image_info\"][0,0][0,0][0].astype(np.float32)\n",
    "    print('1.the current points is that {}'.format(points))\n",
    "    print('2:{},{}'.fomat((points[0],points[1])))\n",
    "#     perm = np.random.permutation(len(points))[0: max(int(len(points) * portion), 4)]\n",
    "#     new_points = np.random.rand(0, 2)\n",
    "#     for i in perm:\n",
    "#         new_points = np.insert(new_points, 0, points[i], axis=0)\n",
    "#     print('3.the new new_points is that {}'.format(new_points))\n",
    "#     print('the changed points length is from {} ===>> {}'.format(len(points),len(new_points)))\n",
    "\n",
    "#     print('the length of the current points is that {}'.format(len(points)))\n",
    "#     # print('the points[:, 0] is that {}'.format(points[:, 0]))\n",
    "\n",
    "#     idx_mask = (new_points[:, 0] >= 0) * (new_points[:, 0] <= im_w) * (new_points[:, 1] >= 0) * (new_points[:, 1] <= im_h)\n",
    "#     # print('the idx_mask is that {}'.format(idx_mask))\n",
    "#     new_points = new_points[idx_mask]\n",
    "#     print('2.points is that {}'.format(new_points))\n",
    "    \n",
    "    im_h, im_w, rr = cal_new_size(im_h, im_w, min_size, max_size)\n",
    "    # im = np.array(im)\n",
    "    if rr != 1.0:\n",
    "        bg_img_np = cv2.resize(bg_img_np, (im_w, im_h), cv2.INTER_CUBIC)\n",
    "        new_points = points * rr\n",
    "    bg_img = Image.fromarray(bg_img_np.astype('uint8'))\n",
    "    # print('4.the new_points in image is that {}'.format(new_points))\n",
    "    # print('5.the points in image is that {}'.format(points))\n",
    "    print(bg_img)\n",
    "#     print(new_points.shape)\n",
    "    return bg_img, new_points\n",
    "#     return bg_img, new_points\n"
   ]
  },
  {
   "cell_type": "code",
   "execution_count": 5,
   "id": "1592d903",
   "metadata": {},
   "outputs": [],
   "source": [
    "im_path = '/home/xing/BackdoorAttacksonCrowdCounting/datasets/raw/part_B_final/train_data/images/IMG_1.jpg'\n",
    "mat_path = im_path.replace('.jpg', '.mat').replace('IMG','GT_IMG').replace('images','ground_truth')"
   ]
  },
  {
   "cell_type": "code",
   "execution_count": 6,
   "id": "0b43bd73",
   "metadata": {},
   "outputs": [],
   "source": [
    "points = loadmat(mat_path)[\"image_info\"][0,0][0,0][0].astype(np.float32)"
   ]
  },
  {
   "cell_type": "code",
   "execution_count": 7,
   "id": "36eed1b0",
   "metadata": {},
   "outputs": [
    {
     "data": {
      "text/plain": [
       "numpy.ndarray"
      ]
     },
     "execution_count": 7,
     "metadata": {},
     "output_type": "execute_result"
    }
   ],
   "source": [
    "type(points)"
   ]
  },
  {
   "cell_type": "code",
   "execution_count": 8,
   "id": "5fa2be90",
   "metadata": {},
   "outputs": [
    {
     "name": "stdout",
     "output_type": "stream",
     "text": [
      "the current points is that [[ 3.26795502e+01  7.53521667e+02]\n",
      " [ 1.84606949e+02  6.90799316e+02]\n",
      " [ 3.44897339e+02  5.77899170e+02]\n",
      " [ 3.28171387e+02  5.36084290e+02]\n",
      " [ 3.29565216e+02  4.73361938e+02]\n",
      " [ 6.43176819e+02  5.33296631e+02]\n",
      " [ 6.61296631e+02  6.81042542e+02]\n",
      " [ 8.03467224e+02  5.80686829e+02]\n",
      " [ 8.14617859e+02  5.02632355e+02]\n",
      " [ 7.57470825e+02  3.92519836e+02]\n",
      " [ 7.70015320e+02  3.64643250e+02]\n",
      " [ 7.99285706e+02  3.15859222e+02]\n",
      " [ 7.28200439e+02  3.28403687e+02]\n",
      " [ 8.99641418e+02  4.05064301e+02]\n",
      " [ 9.19155029e+02  5.29115112e+02]\n",
      " [ 9.24730347e+02  2.78225830e+02]\n",
      " [ 9.65151428e+02  2.50349243e+02]\n",
      " [ 1.01811694e+03  2.36410950e+02]\n",
      " [ 9.38668640e+02  1.86233093e+02]\n",
      " [ 8.96853760e+02  1.68113312e+02]\n",
      " [ 8.78734009e+02  1.83445435e+02]\n",
      " [ 9.58182251e+02  1.30479904e+02]\n",
      " [ 9.51213135e+02  8.30897141e+01]\n",
      " [ 9.14973572e+02  6.35760994e+01]\n",
      " [ 1.02229840e+03  5.93946114e+01]\n",
      " [ 4.87067932e+02  3.33979004e+02]\n",
      " [ 4.64766663e+02  2.78225830e+02]\n",
      " [ 5.44214966e+02  2.89376465e+02]\n",
      " [ 8.36919128e+02  2.67075195e+02]\n",
      " [ 7.72802979e+02  1.47205872e+02]\n",
      " [ 7.47714050e+02  2.22472656e+02]\n",
      " [ 7.36563416e+02  2.08534363e+02]\n",
      " [ 6.90567017e+02  1.95989899e+02]\n",
      " [ 6.87779358e+02  1.70900970e+02]\n",
      " [ 7.08686829e+02  1.30479904e+02]\n",
      " [ 6.76628723e+02  2.35017120e+02]\n",
      " [ 6.09724915e+02  1.95989899e+02]\n",
      " [ 5.65122375e+02  1.98777557e+02]\n",
      " [ 5.12156860e+02  2.26654144e+02]\n",
      " [ 4.73129639e+02  2.08534363e+02]\n",
      " [ 3.31655945e+02  2.15851959e+02]\n",
      " [ 3.20505310e+02  1.94944519e+02]\n",
      " [ 3.00991699e+02  1.69158676e+02]\n",
      " [ 3.65804779e+02  1.54523468e+02]\n",
      " [ 4.17376465e+02  1.54523468e+02]\n",
      " [ 4.53616028e+02  1.69855591e+02]\n",
      " [ 4.55706787e+02  1.45463577e+02]\n",
      " [ 4.83583374e+02  1.62189529e+02]\n",
      " [ 5.30973572e+02  1.48251236e+02]\n",
      " [ 5.60940918e+02  1.50341980e+02]\n",
      " [ 5.62334717e+02  1.32222198e+02]\n",
      " [ 6.15300232e+02  1.30828369e+02]\n",
      " [ 6.09028015e+02  1.05042526e+02]\n",
      " [ 5.97180481e+02  8.41350861e+01]\n",
      " [ 5.66516235e+02  6.11368980e+01]\n",
      " [ 5.47002625e+02  1.14799332e+02]\n",
      " [ 5.35851990e+02  7.57721100e+01]\n",
      " [ 5.48396423e+02  6.39245567e+01]\n",
      " [ 5.40033447e+02  5.90461540e+01]\n",
      " [ 4.96824738e+02  9.04073181e+01]\n",
      " [ 5.03793884e+02  1.28737625e+02]\n",
      " [ 4.72432739e+02  9.31949768e+01]\n",
      " [ 4.71735809e+02  7.85597687e+01]\n",
      " [ 4.62675934e+02  1.01557953e+02]\n",
      " [ 4.54312958e+02  1.19677734e+02]\n",
      " [ 4.12498047e+02  7.36813660e+01]\n",
      " [ 3.94378265e+02  8.62258301e+01]\n",
      " [ 3.78349243e+02  9.66795502e+01]\n",
      " [ 3.68592438e+02  8.34381714e+01]\n",
      " [ 6.69194946e+02  1.12708588e+02]\n",
      " [ 6.53862854e+02  9.66795502e+01]\n",
      " [ 6.46893677e+02  8.69227448e+01]\n",
      " [ 6.83133240e+02  8.69227448e+01]\n",
      " [ 7.15888245e+02  7.22875366e+01]\n",
      " [ 7.54218567e+02  6.39245567e+01]\n",
      " [ 7.63975403e+02  4.99862633e+01]\n",
      " [ 7.48643250e+02  4.44109459e+01]\n",
      " [ 7.82095154e+02  4.99862633e+01]\n",
      " [ 7.54915466e+02  9.11042328e+01]\n",
      " [ 7.38886475e+02  7.36813660e+01]\n",
      " [ 8.44817505e+02  6.60153046e+01]\n",
      " [ 8.55968140e+02  5.55615807e+01]\n",
      " [ 8.74087891e+02  3.81387138e+01]\n",
      " [ 8.38545227e+02  2.00189323e+01]\n",
      " [ 2.53543427e+02  3.63093147e+01]\n",
      " [ 2.65565216e+02  2.95143948e+01]\n",
      " [ 2.53717667e+02  5.47775536e+01]\n",
      " [ 2.86298431e+02  2.91659374e+01]\n",
      " [ 3.01282104e+02  3.59608574e+01]\n",
      " [ 2.96752136e+02  5.16414375e+01]\n",
      " [ 3.03547058e+02  6.10497856e+01]\n",
      " [ 3.34211304e+02  3.06468811e+01]\n",
      " [ 3.42574280e+02  4.31913452e+01]\n",
      " [ 3.48846527e+02  4.49336319e+01]\n",
      " [ 3.64875549e+02  3.30860825e+01]\n",
      " [ 3.69405487e+02  4.98120346e+01]\n",
      " [ 3.61042511e+02  5.92203827e+01]\n",
      " [ 3.75329285e+02  2.39390774e+01]\n",
      " [ 3.83169556e+02  2.04545040e+01]\n",
      " [ 3.89267578e+02  1.73183880e+01]\n",
      " [ 3.93100616e+02  1.62730160e+01]\n",
      " [ 3.95714020e+02  1.78410740e+01]\n",
      " [ 4.03554321e+02  1.81895313e+01]\n",
      " [ 3.88396423e+02  2.91659374e+01]\n",
      " [ 3.88222198e+02  3.45670242e+01]\n",
      " [ 3.94320190e+02  4.55434341e+01]\n",
      " [ 4.18537994e+02  5.19898949e+01]\n",
      " [ 4.14530731e+02  3.96196594e+01]\n",
      " [ 4.18712219e+02  3.10824528e+01]\n",
      " [ 4.19234894e+02  2.09771900e+01]\n",
      " [ 4.22371033e+02  1.76668453e+01]\n",
      " [ 4.21674103e+02  1.41822710e+01]\n",
      " [ 4.28294800e+02  1.62730160e+01]\n",
      " [ 4.30559753e+02  3.26505089e+01]\n",
      " [ 4.26726746e+02  3.70062294e+01]\n",
      " [ 4.39619659e+02  3.56123962e+01]\n",
      " [ 4.49550690e+02  3.64835434e+01]\n",
      " [ 4.43801147e+02  3.43927956e+01]\n",
      " [ 4.43104218e+02  3.21278229e+01]\n",
      " [ 4.50596069e+02  4.95506935e+01]\n",
      " [ 4.40839264e+02  6.07013283e+01]\n",
      " [ 4.29340179e+02  6.95869904e+01]\n",
      " [ 4.36657776e+02  1.24399843e+01]\n",
      " [ 4.38574280e+02  8.08426762e+00]\n",
      " [ 4.40839264e+02  4.07700777e+00]\n",
      " [ 4.45543427e+02  8.08426762e+00]\n",
      " [ 4.49899139e+02  9.47809696e+00]\n",
      " [ 4.49202240e+02  4.77392244e+00]\n",
      " [ 4.54603333e+02  2.68317842e+00]\n",
      " [ 4.47808411e+02  1.76668453e+01]\n",
      " [ 4.65057037e+02  5.28610382e+01]\n",
      " [ 4.77949951e+02  5.11187515e+01]\n",
      " [ 4.62966309e+02  2.23710194e+01]\n",
      " [ 4.62269379e+02  1.00007830e+01]\n",
      " [ 4.57565216e+02  5.81929445e+00]\n",
      " [ 4.64708588e+02  1.46357787e+00]\n",
      " [ 4.76033447e+02  5.12237978e+00]\n",
      " [ 4.70109680e+02  1.06976976e+01]\n",
      " [ 4.76730377e+02  1.24399843e+01]\n",
      " [ 4.85616028e+02  1.17430696e+01]\n",
      " [ 4.88926361e+02  6.86466694e+00]\n",
      " [ 4.85790253e+02  1.63780653e+00]\n",
      " [ 4.96243988e+02  5.64506578e+00]\n",
      " [ 4.92410950e+02  4.77392244e+00]\n",
      " [ 5.08614227e+02  1.05234690e+01]\n",
      " [ 5.20635986e+02  1.12203836e+01]\n",
      " [ 5.19067932e+02  5.29660845e+00]\n",
      " [ 5.23423645e+02  4.59969378e+00]\n",
      " [ 5.50254883e+02  5.81929445e+00]\n",
      " [ 5.43285706e+02  4.42546511e+00]\n",
      " [ 5.55133240e+02  2.84690228e+01]\n",
      " [ 5.36490784e+02  4.29300041e+01]\n",
      " [ 5.20810242e+02  4.98991508e+01]\n",
      " [ 5.17674133e+02  3.80516014e+01]\n",
      " [ 5.01296600e+02  3.94454308e+01]\n",
      " [ 4.92585175e+02  3.64835434e+01]\n",
      " [ 4.81260315e+02  2.55071354e+01]\n",
      " [ 5.62334717e+02  9.65232563e+00]\n",
      " [ 5.76447266e+02  5.64506578e+00]\n",
      " [ 5.93173218e+02  3.38009334e+00]\n",
      " [ 5.99793884e+02  3.20586467e+00]\n",
      " [ 6.07634155e+02  5.12237978e+00]\n",
      " [ 6.12338379e+02  9.30386829e+00]\n",
      " [ 6.17216736e+02  2.65525074e+01]\n",
      " [ 6.01361938e+02  2.25452480e+01]\n",
      " [ 6.27496216e+02  3.23020515e+01]\n",
      " [ 6.39692261e+02  2.74236507e+01]\n",
      " [ 6.38646851e+02  1.85379887e+01]\n",
      " [ 6.44919128e+02  2.85740709e+00]\n",
      " [ 6.53107849e+02  9.30386829e+00]\n",
      " [ 6.54327454e+02  1.63780653e+00]\n",
      " [ 6.64781189e+02  2.70751934e+01]\n",
      " [ 6.65652344e+02  1.74926167e+01]\n",
      " [ 6.70182251e+02  3.55432200e+00]\n",
      " [ 6.63735840e+02  1.11512041e+00]\n",
      " [ 6.81332886e+02  4.42546511e+00]\n",
      " [ 6.85688599e+02  2.85740709e+00]\n",
      " [ 6.87430908e+02  1.05234690e+01]\n",
      " [ 6.92483521e+02  1.99318180e+01]\n",
      " [ 7.01891907e+02  2.48102207e+01]\n",
      " [ 6.96839233e+02  3.38701096e+01]\n",
      " [ 7.13565186e+02  4.83310928e+01]\n",
      " [ 7.17049805e+02  2.06287327e+01]\n",
      " [ 7.19837463e+02  5.81929445e+00]\n",
      " [ 7.30813843e+02  3.55432200e+00]\n",
      " [ 7.35692261e+02  2.18483334e+01]\n",
      " [ 7.50675903e+02  1.05234690e+01]\n",
      " [ 7.62000793e+02  5.64506578e+00]\n",
      " [ 7.75242188e+02  2.33472109e+00]\n",
      " [ 7.89354675e+02  2.68317842e+00]\n",
      " [ 7.95626892e+02  1.41822710e+01]\n",
      " [ 8.29078796e+02 -1.04480267e-01]\n",
      " [ 8.30298401e+02  1.63780653e+00]\n",
      " [ 8.23677734e+02  2.04545040e+01]\n",
      " [ 8.41623291e+02  4.59969378e+00]\n",
      " [ 8.57303894e+02  6.51620960e+00]\n",
      " [ 8.89536194e+02  6.60332394e+00]\n",
      " [ 9.09746704e+02  9.04252529e+00]\n",
      " [ 9.64802979e+02  2.47231064e+01]\n",
      " [ 5.64840149e+02  3.64086113e+01]\n",
      " [ 5.68932068e+02  2.87362843e+01]\n",
      " [ 2.45026428e+02  2.89461613e+01]\n",
      " [ 2.99394318e+02  2.47722473e+01]\n",
      " [ 2.83340820e+02  5.92337875e+01]\n",
      " [ 2.65253845e+02  6.23374634e+01]\n",
      " [ 2.70176941e+02  5.64511757e+01]\n",
      " [ 2.89120087e+02  6.08391380e+01]\n",
      " [ 3.78484619e+02  3.41367950e+01]\n",
      " [ 3.28718750e+02  4.83709106e+01]\n",
      " [ 3.34390991e+02  5.07254257e+01]\n",
      " [ 3.75380951e+02  1.97956581e+01]\n",
      " [ 3.42631775e+02  3.03909760e+01]\n",
      " [ 5.62243835e+02  9.92605438e+01]\n",
      " [ 5.59140137e+02  8.14946518e+01]\n",
      " [ 5.08089966e+02  6.89729156e+01]\n",
      " [ 5.28638489e+02  6.38357925e+01]\n",
      " [ 5.35594971e+02  2.91271567e+00]\n",
      " [ 5.78885986e+02  5.58830070e+00]\n",
      " [ 5.99809021e+02  3.08190708e+01]\n",
      " [ 6.24317383e+02  2.24712448e+01]\n",
      " [ 6.64986267e+02  7.48796654e+00]\n",
      " [ 6.50538147e+02  1.58357925e+01]\n",
      " [ 6.85320740e+02  2.62170639e+01]\n",
      " [ 6.86337463e+02  1.52739201e+01]\n",
      " [ 6.81093323e+02  1.88056927e+01]\n",
      " [ 6.96825745e+02  1.09331763e+00]\n",
      " [ 7.52531433e+02  5.66856861e+00]\n",
      " [ 7.07581604e+02  8.54545212e+01]\n",
      " [ 6.94310730e+02  1.14992981e+02]\n",
      " [ 8.01548157e+02  1.26337463e+02]\n",
      " [ 8.26805664e+02  1.26230438e+02]\n",
      " [ 8.33655212e+02  1.79314056e+02]\n",
      " [ 5.84718750e+02  1.24411041e+02]\n",
      " [ 4.77695312e+02  1.29334122e+02]]\n"
     ]
    }
   ],
   "source": [
    "print('the current points is that {}'.format(points))"
   ]
  },
  {
   "cell_type": "code",
   "execution_count": 9,
   "id": "bd74b86c",
   "metadata": {},
   "outputs": [],
   "source": [
    "new_points = np.random.rand(0,2)\n",
    "# print(new_points)"
   ]
  },
  {
   "cell_type": "code",
   "execution_count": 10,
   "id": "ed45d05f",
   "metadata": {},
   "outputs": [],
   "source": [
    "#doube times\n",
    "for i in range(len(points)):\n",
    "    new_points = np.insert(new_points, 0, points[i], axis = 0)\n",
    "    p = np.array([points[i][0] + np.random.uniform(-0.5,0.5), points[i][1] + np.random.uniform(-0.5,0.5)])\n",
    "    new_points = np.insert(new_points, 0 ,p, axis=0)"
   ]
  },
  {
   "cell_type": "code",
   "execution_count": 11,
   "id": "845ca20d",
   "metadata": {},
   "outputs": [
    {
     "data": {
      "text/plain": [
       "(234, 819)"
      ]
     },
     "execution_count": 11,
     "metadata": {},
     "output_type": "execute_result"
    }
   ],
   "source": [
    "#1.5 times\n",
    "for i in range(len(points)):\n",
    "    new_points = np.insert(new_points, 0, points[i], axis = 0)\n",
    "for i in range(int(0.5 * len(points))):\n",
    "    p = np.array([points[i][0] + np.random.uniform(-0.5,0.5), points[i][1] + np.random.uniform(-0.5,0.5)])\n",
    "    new_points = np.insert(new_points, 0 ,p, axis=0)\n",
    "len(points), len(new_points)\n"
   ]
  },
  {
   "cell_type": "code",
   "execution_count": 12,
   "id": "950efd0f",
   "metadata": {},
   "outputs": [
    {
     "name": "stdout",
     "output_type": "stream",
     "text": [
      "[[449.07787151  36.34681209]\n",
      " [439.57098801  35.5037962 ]\n",
      " [427.16834145  37.2384662 ]\n",
      " ...\n",
      " [184.60694885 690.79931641]\n",
      " [ 33.11903433 753.89563621]\n",
      " [ 32.67955017 753.52166748]]\n"
     ]
    }
   ],
   "source": [
    "print(new_points)"
   ]
  },
  {
   "cell_type": "code",
   "execution_count": 13,
   "id": "e26affcf",
   "metadata": {},
   "outputs": [
    {
     "data": {
      "text/plain": [
       "(234, 819)"
      ]
     },
     "execution_count": 13,
     "metadata": {},
     "output_type": "execute_result"
    }
   ],
   "source": [
    "len(points), len(new_points)"
   ]
  },
  {
   "cell_type": "code",
   "execution_count": 14,
   "id": "efbb6574",
   "metadata": {},
   "outputs": [
    {
     "data": {
      "text/plain": [
       "numpy.ndarray"
      ]
     },
     "execution_count": 14,
     "metadata": {},
     "output_type": "execute_result"
    }
   ],
   "source": [
    "type(new_points)"
   ]
  },
  {
   "cell_type": "code",
   "execution_count": 15,
   "id": "d7a9ed49",
   "metadata": {},
   "outputs": [
    {
     "data": {
      "text/plain": [
       "int"
      ]
     },
     "execution_count": 15,
     "metadata": {},
     "output_type": "execute_result"
    }
   ],
   "source": [
    "type(len(points))"
   ]
  },
  {
   "cell_type": "code",
   "execution_count": 16,
   "id": "5f5985d2",
   "metadata": {},
   "outputs": [
    {
     "data": {
      "text/plain": [
       "117"
      ]
     },
     "execution_count": 16,
     "metadata": {},
     "output_type": "execute_result"
    }
   ],
   "source": [
    "int(0.5 *len(points))"
   ]
  },
  {
   "cell_type": "code",
   "execution_count": null,
   "id": "9eb0a216",
   "metadata": {},
   "outputs": [],
   "source": []
  }
 ],
 "metadata": {
  "kernelspec": {
   "display_name": "Python 3.9.12 ('netmind-pt': conda)",
   "language": "python",
   "name": "python3"
  },
  "language_info": {
   "codemirror_mode": {
    "name": "ipython",
    "version": 3
   },
   "file_extension": ".py",
   "mimetype": "text/x-python",
   "name": "python",
   "nbconvert_exporter": "python",
   "pygments_lexer": "ipython3",
   "version": "3.9.12"
  },
  "vscode": {
   "interpreter": {
    "hash": "894f9651574808f46561db0650a035f1cd4c2a4b359f06718315bb789db350b5"
   }
  }
 },
 "nbformat": 4,
 "nbformat_minor": 5
}
